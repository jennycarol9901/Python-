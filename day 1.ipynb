{
 "cells": [
  {
   "cell_type": "markdown",
   "id": "c9aac06f",
   "metadata": {},
   "source": [
    "# Python practise day 1\n"
   ]
  },
  {
   "cell_type": "markdown",
   "id": "cb88c6c5",
   "metadata": {},
   "source": [
    "Python: Python is a object oriented language/ it is interpretable language.\n",
    "        it is very easy to understand when it comes to syntax.\n",
    "        In python all the libraries are inbuilt which makes us to understand it in a easy way.\n",
    "        \n"
   ]
  },
  {
   "cell_type": "markdown",
   "id": "50369036",
   "metadata": {},
   "source": [
    "# basic "
   ]
  },
  {
   "cell_type": "code",
   "execution_count": 4,
   "id": "4eed869d",
   "metadata": {},
   "outputs": [
    {
     "name": "stdout",
     "output_type": "stream",
     "text": [
      "this is my first program\n"
     ]
    }
   ],
   "source": [
    "print(\"this is my first program\")"
   ]
  },
  {
   "cell_type": "code",
   "execution_count": 5,
   "id": "f88d1773",
   "metadata": {},
   "outputs": [
    {
     "ename": "SyntaxError",
     "evalue": "Missing parentheses in call to 'print'. Did you mean print(\" this is my first program\")? (1295544332.py, line 1)",
     "output_type": "error",
     "traceback": [
      "\u001b[1;36m  Input \u001b[1;32mIn [5]\u001b[1;36m\u001b[0m\n\u001b[1;33m    print \" this is my first program\"\u001b[0m\n\u001b[1;37m          ^\u001b[0m\n\u001b[1;31mSyntaxError\u001b[0m\u001b[1;31m:\u001b[0m Missing parentheses in call to 'print'. Did you mean print(\" this is my first program\")?\n"
     ]
    }
   ],
   "source": [
    "print \" this is my first program\""
   ]
  },
  {
   "cell_type": "markdown",
   "id": "8221b669",
   "metadata": {},
   "source": [
    "this sentence is actually correct but doesnot execute because it works only is python 2.x not in python 3.x"
   ]
  },
  {
   "cell_type": "markdown",
   "id": "a3f99370",
   "metadata": {},
   "source": [
    "# Comment"
   ]
  },
  {
   "cell_type": "code",
   "execution_count": 6,
   "id": "da5b8a13",
   "metadata": {},
   "outputs": [],
   "source": [
    "#my name is jennifer"
   ]
  },
  {
   "cell_type": "markdown",
   "id": "44756118",
   "metadata": {},
   "source": [
    "Here we are trying to write some sentence or string. suppose we donot want to execute this line in program, in python we have that provision to consider that line as non executable line.\n",
    "Just add # before the sentence"
   ]
  },
  {
   "cell_type": "code",
   "execution_count": 7,
   "id": "495de2c8",
   "metadata": {},
   "outputs": [
    {
     "data": {
      "text/plain": [
       "'my \\nname\\nis \\njennifer'"
      ]
     },
     "execution_count": 7,
     "metadata": {},
     "output_type": "execute_result"
    }
   ],
   "source": [
    "\"\"\"my \n",
    "name\n",
    "is \n",
    "jennifer\"\"\""
   ]
  },
  {
   "cell_type": "markdown",
   "id": "7a20bb62",
   "metadata": {},
   "source": [
    "If you want to write multiple line comment in program then add \"\"\" at the start and end of the program"
   ]
  },
  {
   "cell_type": "markdown",
   "id": "8c7e5624",
   "metadata": {},
   "source": [
    "# Variable"
   ]
  },
  {
   "cell_type": "markdown",
   "id": "923062c7",
   "metadata": {},
   "source": [
    "Variable:it is a global instance which will store a data.\n",
    "                     \"or\"\n",
    "         variables are names given to the data items that may take one or more values during a program's runtime\n",
    "         \n",
    "       "
   ]
  },
  {
   "cell_type": "markdown",
   "id": "45e5dbca",
   "metadata": {},
   "source": [
    "variable naming conventions:\n",
    "1. it cannot begin with a number\n",
    "2. it must be a single word\n",
    "3. it must consist of letter ans _symbol only\n",
    "4. in pyhthon variable with _symbol is considered as unuseful\n",
    "\n"
   ]
  },
  {
   "cell_type": "code",
   "execution_count": 12,
   "id": "880dd7e6",
   "metadata": {},
   "outputs": [
    {
     "data": {
      "text/plain": [
       "10"
      ]
     },
     "execution_count": 12,
     "metadata": {},
     "output_type": "execute_result"
    }
   ],
   "source": [
    "a=10\n",
    "a"
   ]
  },
  {
   "cell_type": "code",
   "execution_count": 9,
   "id": "da0f0486",
   "metadata": {},
   "outputs": [
    {
     "data": {
      "text/plain": [
       "int"
      ]
     },
     "execution_count": 9,
     "metadata": {},
     "output_type": "execute_result"
    }
   ],
   "source": [
    "type (a)"
   ]
  },
  {
   "cell_type": "code",
   "execution_count": 15,
   "id": "74c20f24",
   "metadata": {},
   "outputs": [
    {
     "data": {
      "text/plain": [
       "'jennifer'"
      ]
     },
     "execution_count": 15,
     "metadata": {},
     "output_type": "execute_result"
    }
   ],
   "source": [
    "b=\"jennifer\"\n",
    "b"
   ]
  },
  {
   "cell_type": "code",
   "execution_count": 11,
   "id": "b7eb7deb",
   "metadata": {},
   "outputs": [
    {
     "data": {
      "text/plain": [
       "str"
      ]
     },
     "execution_count": 11,
     "metadata": {},
     "output_type": "execute_result"
    }
   ],
   "source": [
    "type(b)"
   ]
  },
  {
   "cell_type": "code",
   "execution_count": 17,
   "id": "5c426eae",
   "metadata": {},
   "outputs": [
    {
     "data": {
      "text/plain": [
       "'15'"
      ]
     },
     "execution_count": 17,
     "metadata": {},
     "output_type": "execute_result"
    }
   ],
   "source": [
    "c=\"15\"\n",
    "c"
   ]
  },
  {
   "cell_type": "code",
   "execution_count": 18,
   "id": "5acae1f6",
   "metadata": {},
   "outputs": [
    {
     "data": {
      "text/plain": [
       "str"
      ]
     },
     "execution_count": 18,
     "metadata": {},
     "output_type": "execute_result"
    }
   ],
   "source": [
    "type(c)"
   ]
  },
  {
   "cell_type": "code",
   "execution_count": 19,
   "id": "221afe75",
   "metadata": {},
   "outputs": [],
   "source": [
    "a=15\n",
    "b=\"jennifer\"\n",
    "a,b= 15, \"jennifer\""
   ]
  },
  {
   "cell_type": "code",
   "execution_count": 20,
   "id": "512f2e41",
   "metadata": {},
   "outputs": [
    {
     "data": {
      "text/plain": [
       "15"
      ]
     },
     "execution_count": 20,
     "metadata": {},
     "output_type": "execute_result"
    }
   ],
   "source": [
    "a"
   ]
  },
  {
   "cell_type": "code",
   "execution_count": 21,
   "id": "6edbf1aa",
   "metadata": {},
   "outputs": [
    {
     "data": {
      "text/plain": [
       "'jennifer'"
      ]
     },
     "execution_count": 21,
     "metadata": {},
     "output_type": "execute_result"
    }
   ],
   "source": [
    "b"
   ]
  },
  {
   "cell_type": "code",
   "execution_count": 22,
   "id": "9b482d50",
   "metadata": {},
   "outputs": [
    {
     "data": {
      "text/plain": [
       "(15, 'jennifer')"
      ]
     },
     "execution_count": 22,
     "metadata": {},
     "output_type": "execute_result"
    }
   ],
   "source": [
    "a,b"
   ]
  },
  {
   "cell_type": "code",
   "execution_count": 23,
   "id": "a0ab0622",
   "metadata": {},
   "outputs": [
    {
     "name": "stdout",
     "output_type": "stream",
     "text": [
      "15 jennifer\n"
     ]
    }
   ],
   "source": [
    "print(a,b)"
   ]
  },
  {
   "cell_type": "code",
   "execution_count": 25,
   "id": "28ab4113",
   "metadata": {},
   "outputs": [
    {
     "data": {
      "text/plain": [
       "int"
      ]
     },
     "execution_count": 25,
     "metadata": {},
     "output_type": "execute_result"
    }
   ],
   "source": [
    "type(a)"
   ]
  },
  {
   "cell_type": "code",
   "execution_count": 26,
   "id": "ef26de83",
   "metadata": {},
   "outputs": [
    {
     "data": {
      "text/plain": [
       "str"
      ]
     },
     "execution_count": 26,
     "metadata": {},
     "output_type": "execute_result"
    }
   ],
   "source": [
    "type (b)"
   ]
  },
  {
   "cell_type": "code",
   "execution_count": 29,
   "id": "d814d7db",
   "metadata": {},
   "outputs": [
    {
     "data": {
      "text/plain": [
       "(5675, 'ghyfjgju', 'gahfsgahyf')"
      ]
     },
     "execution_count": 29,
     "metadata": {},
     "output_type": "execute_result"
    }
   ],
   "source": [
    "a=5675\n",
    "b=\"ghyfjgju\"\n",
    "c=\"gahfsgahyf\"\n",
    "a,b,c=5675, \"ghyfjgju\",\"gahfsgahyf\"\n",
    "a,b,c"
   ]
  },
  {
   "cell_type": "code",
   "execution_count": 30,
   "id": "dc7dbd30",
   "metadata": {},
   "outputs": [
    {
     "ename": "SyntaxError",
     "evalue": "invalid syntax (3809208166.py, line 1)",
     "output_type": "error",
     "traceback": [
      "\u001b[1;36m  Input \u001b[1;32mIn [30]\u001b[1;36m\u001b[0m\n\u001b[1;33m    2a=\"jennifer\"\u001b[0m\n\u001b[1;37m     ^\u001b[0m\n\u001b[1;31mSyntaxError\u001b[0m\u001b[1;31m:\u001b[0m invalid syntax\n"
     ]
    }
   ],
   "source": [
    "2a=\"jennifer\""
   ]
  },
  {
   "cell_type": "markdown",
   "id": "6235448f",
   "metadata": {},
   "source": [
    "Variable name should not start with an integer"
   ]
  },
  {
   "cell_type": "code",
   "execution_count": 31,
   "id": "3baea894",
   "metadata": {},
   "outputs": [
    {
     "data": {
      "text/plain": [
       "1.3"
      ]
     },
     "execution_count": 31,
     "metadata": {},
     "output_type": "execute_result"
    }
   ],
   "source": [
    "a=1.3\n",
    "a"
   ]
  },
  {
   "cell_type": "code",
   "execution_count": 32,
   "id": "8fb299c0",
   "metadata": {},
   "outputs": [
    {
     "data": {
      "text/plain": [
       "float"
      ]
     },
     "execution_count": 32,
     "metadata": {},
     "output_type": "execute_result"
    }
   ],
   "source": [
    "type(a)"
   ]
  },
  {
   "cell_type": "code",
   "execution_count": 33,
   "id": "d1b1aef9",
   "metadata": {},
   "outputs": [],
   "source": [
    "a=True\n",
    "b=False"
   ]
  },
  {
   "cell_type": "code",
   "execution_count": 34,
   "id": "e7629188",
   "metadata": {},
   "outputs": [
    {
     "data": {
      "text/plain": [
       "bool"
      ]
     },
     "execution_count": 34,
     "metadata": {},
     "output_type": "execute_result"
    }
   ],
   "source": [
    "type(a)"
   ]
  },
  {
   "cell_type": "code",
   "execution_count": 35,
   "id": "4861c76f",
   "metadata": {},
   "outputs": [
    {
     "data": {
      "text/plain": [
       "bool"
      ]
     },
     "execution_count": 35,
     "metadata": {},
     "output_type": "execute_result"
    }
   ],
   "source": [
    "type(b)"
   ]
  },
  {
   "cell_type": "code",
   "execution_count": 36,
   "id": "c024f264",
   "metadata": {},
   "outputs": [
    {
     "name": "stdout",
     "output_type": "stream",
     "text": [
      "4\n"
     ]
    }
   ],
   "source": [
    "print(True+True+True+False+True)"
   ]
  },
  {
   "cell_type": "markdown",
   "id": "aa4063ce",
   "metadata": {},
   "source": [
    "true=1\n",
    "false=0"
   ]
  },
  {
   "cell_type": "code",
   "execution_count": 37,
   "id": "74eb84ac",
   "metadata": {},
   "outputs": [
    {
     "data": {
      "text/plain": [
       "1"
      ]
     },
     "execution_count": 37,
     "metadata": {},
     "output_type": "execute_result"
    }
   ],
   "source": [
    "True*True"
   ]
  },
  {
   "cell_type": "code",
   "execution_count": 38,
   "id": "9a3a1c91",
   "metadata": {},
   "outputs": [
    {
     "data": {
      "text/plain": [
       "1"
      ]
     },
     "execution_count": 38,
     "metadata": {},
     "output_type": "execute_result"
    }
   ],
   "source": [
    "True-False"
   ]
  },
  {
   "cell_type": "code",
   "execution_count": 39,
   "id": "0e324dbf",
   "metadata": {},
   "outputs": [
    {
     "ename": "ZeroDivisionError",
     "evalue": "division by zero",
     "output_type": "error",
     "traceback": [
      "\u001b[1;31m---------------------------------------------------------------------------\u001b[0m",
      "\u001b[1;31mZeroDivisionError\u001b[0m                         Traceback (most recent call last)",
      "Input \u001b[1;32mIn [39]\u001b[0m, in \u001b[0;36m<cell line: 1>\u001b[1;34m()\u001b[0m\n\u001b[1;32m----> 1\u001b[0m \u001b[38;5;28;43;01mTrue\u001b[39;49;00m\u001b[38;5;241;43m/\u001b[39;49m\u001b[38;5;28;43;01mFalse\u001b[39;49;00m\n",
      "\u001b[1;31mZeroDivisionError\u001b[0m: division by zero"
     ]
    }
   ],
   "source": [
    "True/False"
   ]
  },
  {
   "cell_type": "code",
   "execution_count": 40,
   "id": "d3b13d6d",
   "metadata": {},
   "outputs": [
    {
     "data": {
      "text/plain": [
       "0.0"
      ]
     },
     "execution_count": 40,
     "metadata": {},
     "output_type": "execute_result"
    }
   ],
   "source": [
    "False/True"
   ]
  },
  {
   "cell_type": "code",
   "execution_count": 41,
   "id": "2f0d61de",
   "metadata": {},
   "outputs": [
    {
     "data": {
      "text/plain": [
       "(56+2j)"
      ]
     },
     "execution_count": 41,
     "metadata": {},
     "output_type": "execute_result"
    }
   ],
   "source": [
    "a=56+2j\n",
    "a"
   ]
  },
  {
   "cell_type": "code",
   "execution_count": 42,
   "id": "9ba7ab09",
   "metadata": {},
   "outputs": [
    {
     "data": {
      "text/plain": [
       "complex"
      ]
     },
     "execution_count": 42,
     "metadata": {},
     "output_type": "execute_result"
    }
   ],
   "source": [
    "type (a)"
   ]
  },
  {
   "cell_type": "code",
   "execution_count": 43,
   "id": "bee46668",
   "metadata": {},
   "outputs": [
    {
     "data": {
      "text/plain": [
       "56.0"
      ]
     },
     "execution_count": 43,
     "metadata": {},
     "output_type": "execute_result"
    }
   ],
   "source": [
    "a.real"
   ]
  },
  {
   "cell_type": "code",
   "execution_count": 44,
   "id": "647a8bdf",
   "metadata": {},
   "outputs": [
    {
     "data": {
      "text/plain": [
       "2.0"
      ]
     },
     "execution_count": 44,
     "metadata": {},
     "output_type": "execute_result"
    }
   ],
   "source": [
    "a.imag"
   ]
  },
  {
   "cell_type": "markdown",
   "id": "97c3cb68",
   "metadata": {},
   "source": [
    "# Typecasting"
   ]
  },
  {
   "cell_type": "markdown",
   "id": "1c139779",
   "metadata": {},
   "source": [
    "Typecasting: conversion of one variable data type to another variable data type.\n"
   ]
  },
  {
   "cell_type": "markdown",
   "id": "cb0be7ea",
   "metadata": {},
   "source": [
    "typecasting are of two types:\n",
    "1. implicit typecasting\n",
    "2. explicit typecasting"
   ]
  },
  {
   "cell_type": "markdown",
   "id": "2bd60002",
   "metadata": {},
   "source": [
    "1. Implicit typecasting: In implicit typecasting the python compiler internally typecast one variable into another type without any external action of the user"
   ]
  },
  {
   "cell_type": "markdown",
   "id": "17b5b724",
   "metadata": {},
   "source": [
    "2. Explicit typecasting:In explicit typecasting the user forces the compiler to covert a variable from one variable to another.\n",
    "\n",
    "They are :\n",
    "\n",
    "(i).Integer to str or float  \n",
    "(ii).Float to int"
   ]
  },
  {
   "cell_type": "code",
   "execution_count": 46,
   "id": "78d5fab2",
   "metadata": {},
   "outputs": [
    {
     "data": {
      "text/plain": [
       "11.0"
      ]
     },
     "execution_count": 46,
     "metadata": {},
     "output_type": "execute_result"
    }
   ],
   "source": [
    "w=10\n",
    "x=1.0\n",
    "w+x"
   ]
  },
  {
   "cell_type": "code",
   "execution_count": 48,
   "id": "74593f50",
   "metadata": {},
   "outputs": [
    {
     "data": {
      "text/plain": [
       "float"
      ]
     },
     "execution_count": 48,
     "metadata": {},
     "output_type": "execute_result"
    }
   ],
   "source": [
    "type(w+x)"
   ]
  },
  {
   "cell_type": "code",
   "execution_count": 49,
   "id": "3cc817c1",
   "metadata": {},
   "outputs": [
    {
     "ename": "TypeError",
     "evalue": "unsupported operand type(s) for +: 'int' and 'str'",
     "output_type": "error",
     "traceback": [
      "\u001b[1;31m---------------------------------------------------------------------------\u001b[0m",
      "\u001b[1;31mTypeError\u001b[0m                                 Traceback (most recent call last)",
      "Input \u001b[1;32mIn [49]\u001b[0m, in \u001b[0;36m<cell line: 3>\u001b[1;34m()\u001b[0m\n\u001b[0;32m      1\u001b[0m a\u001b[38;5;241m=\u001b[39m\u001b[38;5;241m1\u001b[39m\n\u001b[0;32m      2\u001b[0m b\u001b[38;5;241m=\u001b[39m\u001b[38;5;124m\"\u001b[39m\u001b[38;5;124mjenny\u001b[39m\u001b[38;5;124m\"\u001b[39m\n\u001b[1;32m----> 3\u001b[0m \u001b[38;5;28mprint\u001b[39m(\u001b[43ma\u001b[49m\u001b[38;5;241;43m+\u001b[39;49m\u001b[43mb\u001b[49m)\n",
      "\u001b[1;31mTypeError\u001b[0m: unsupported operand type(s) for +: 'int' and 'str'"
     ]
    }
   ],
   "source": [
    "a=1\n",
    "b=\"jenny\"\n",
    "print(a+b)"
   ]
  },
  {
   "cell_type": "code",
   "execution_count": 50,
   "id": "37659558",
   "metadata": {},
   "outputs": [
    {
     "name": "stdout",
     "output_type": "stream",
     "text": [
      "1jenny\n"
     ]
    }
   ],
   "source": [
    "a=\"1\"\n",
    "b=\"jenny\"\n",
    "print(a+b)"
   ]
  },
  {
   "cell_type": "code",
   "execution_count": 51,
   "id": "f086b4a8",
   "metadata": {},
   "outputs": [
    {
     "data": {
      "text/plain": [
       "'1jenny'"
      ]
     },
     "execution_count": 51,
     "metadata": {},
     "output_type": "execute_result"
    }
   ],
   "source": [
    "a=str(1)\n",
    "b=\"jenny\"\n",
    "a+b"
   ]
  },
  {
   "cell_type": "code",
   "execution_count": 52,
   "id": "7270f495",
   "metadata": {},
   "outputs": [
    {
     "data": {
      "text/plain": [
       "str"
      ]
     },
     "execution_count": 52,
     "metadata": {},
     "output_type": "execute_result"
    }
   ],
   "source": [
    "type(a+b)"
   ]
  },
  {
   "cell_type": "markdown",
   "id": "32f93b31",
   "metadata": {},
   "source": [
    "# User input"
   ]
  },
  {
   "cell_type": "markdown",
   "id": "0ec7b1b3",
   "metadata": {},
   "source": [
    "Python allows for user input, that means we are able to ask the user for the input"
   ]
  },
  {
   "cell_type": "markdown",
   "id": "394eadff",
   "metadata": {},
   "source": [
    "question 1. \n",
    "\n",
    "  step 1 : Take a integer input from user input\n",
    "  \n",
    "  step 2: Take integer a,b,c\n",
    "  \n",
    "  Step 3: o = (a+b)/c\n",
    "  \n",
    "  step 4: 01 = (0+ complex variable)\n",
    "  \n",
    "  step 5: 01+ \"your name\""
   ]
  },
  {
   "cell_type": "code",
   "execution_count": 76,
   "id": "5fae6eb6",
   "metadata": {},
   "outputs": [
    {
     "name": "stdout",
     "output_type": "stream",
     "text": [
      " enter thae variable100\n"
     ]
    }
   ],
   "source": [
    "a=input(\" enter thae variable\"))"
   ]
  },
  {
   "cell_type": "code",
   "execution_count": 77,
   "id": "a181d984",
   "metadata": {},
   "outputs": [
    {
     "name": "stdout",
     "output_type": "stream",
     "text": [
      "enter the variable a:10\n",
      "enter the variable b:20\n",
      "enter the variable c30\n"
     ]
    }
   ],
   "source": [
    "a=int(input(\"enter the variable a:\"))\n",
    "b=int (input (\"enter the variable b:\"))\n",
    "c=int(input(\"enter the variable c\"))"
   ]
  },
  {
   "cell_type": "code",
   "execution_count": 81,
   "id": "3194d1a6",
   "metadata": {},
   "outputs": [],
   "source": [
    "o= a+b /c"
   ]
  },
  {
   "cell_type": "code",
   "execution_count": 83,
   "id": "ab28aa73",
   "metadata": {},
   "outputs": [
    {
     "data": {
      "text/plain": [
       "10.666666666666666"
      ]
     },
     "execution_count": 83,
     "metadata": {},
     "output_type": "execute_result"
    }
   ],
   "source": [
    "o"
   ]
  },
  {
   "cell_type": "code",
   "execution_count": 84,
   "id": "dfe22e0b",
   "metadata": {},
   "outputs": [
    {
     "data": {
      "text/plain": [
       "(32.666666666666664+5j)"
      ]
     },
     "execution_count": 84,
     "metadata": {},
     "output_type": "execute_result"
    }
   ],
   "source": [
    "o1 = (o+ 22+5j)\n",
    "o1"
   ]
  },
  {
   "cell_type": "code",
   "execution_count": 85,
   "id": "e5eb6f8a",
   "metadata": {},
   "outputs": [
    {
     "ename": "TypeError",
     "evalue": "unsupported operand type(s) for +: 'complex' and 'str'",
     "output_type": "error",
     "traceback": [
      "\u001b[1;31m---------------------------------------------------------------------------\u001b[0m",
      "\u001b[1;31mTypeError\u001b[0m                                 Traceback (most recent call last)",
      "Input \u001b[1;32mIn [85]\u001b[0m, in \u001b[0;36m<cell line: 1>\u001b[1;34m()\u001b[0m\n\u001b[1;32m----> 1\u001b[0m \u001b[43mo1\u001b[49m\u001b[38;5;241;43m+\u001b[39;49m\u001b[38;5;124;43m\"\u001b[39;49m\u001b[38;5;124;43mjenny\u001b[39;49m\u001b[38;5;124;43m\"\u001b[39;49m\n",
      "\u001b[1;31mTypeError\u001b[0m: unsupported operand type(s) for +: 'complex' and 'str'"
     ]
    }
   ],
   "source": [
    "o1+\"jenny\""
   ]
  },
  {
   "cell_type": "code",
   "execution_count": 87,
   "id": "ed5d7d68",
   "metadata": {},
   "outputs": [
    {
     "data": {
      "text/plain": [
       "'(32.666666666666664+5j)jenny'"
      ]
     },
     "execution_count": 87,
     "metadata": {},
     "output_type": "execute_result"
    }
   ],
   "source": [
    "str(o1)+\"jenny\""
   ]
  },
  {
   "cell_type": "markdown",
   "id": "f4728910",
   "metadata": {},
   "source": [
    "# Control and conditional structures"
   ]
  },
  {
   "cell_type": "markdown",
   "id": "3b5a5571",
   "metadata": {},
   "source": [
    "In python there are 4 control and conditional structures.\n",
    "\n",
    "1. if\n",
    "\n",
    "2. elif-else\n",
    "\n",
    "3. if-else\n",
    "\n",
    "4. nested if\n"
   ]
  },
  {
   "cell_type": "code",
   "execution_count": 3,
   "id": "ead7fc01",
   "metadata": {},
   "outputs": [
    {
     "name": "stdout",
     "output_type": "stream",
     "text": [
      "enter the number2\n",
      "a is less than 30\n"
     ]
    }
   ],
   "source": [
    "a=int(input(\"enter the number\"))\n",
    "if a<30:\n",
    "    print(\"a is less than 30\")\n",
    "else:\n",
    "    print(\"the input given is not less than 30\")"
   ]
  },
  {
   "cell_type": "code",
   "execution_count": 5,
   "id": "e4889056",
   "metadata": {},
   "outputs": [
    {
     "name": "stdout",
     "output_type": "stream",
     "text": [
      "enter the salary290\n",
      " i will save\n"
     ]
    }
   ],
   "source": [
    "salary=int(input(\"enter the salary\"))\n",
    "if salary>1000:\n",
    "    print(\"i will buy a phone\")\n",
    "elif salary<1000:\n",
    "    print(\" i will save\")"
   ]
  },
  {
   "cell_type": "code",
   "execution_count": 11,
   "id": "cc2818c4",
   "metadata": {},
   "outputs": [
    {
     "name": "stdout",
     "output_type": "stream",
     "text": [
      " enter your savings 1\n",
      " i will save more \n"
     ]
    }
   ],
   "source": [
    "savings= int(input(\" enter your savings \"))\n",
    "if savings ==100:\n",
    "    print(\" i will buy a chocolate\")\n",
    "elif savings<100:\n",
    "    print(\" i will save more \")\n",
    "elif savings > 100:\n",
    "    print(\" i will buy an icecream\")"
   ]
  },
  {
   "cell_type": "code",
   "execution_count": 16,
   "id": "0b52c94b",
   "metadata": {},
   "outputs": [
    {
     "name": "stdout",
     "output_type": "stream",
     "text": [
      "enter your saalry1000\n",
      " i will buy a car\n",
      "well done\n"
     ]
    }
   ],
   "source": [
    "salary=int(input(\"enter your saalry\"))\n",
    "if salary>100:\n",
    "    print( \" i will buy a car\")\n",
    "if salary<100:\n",
    "    print(\" i will buy a bike\")\n",
    "if salary==100:\n",
    "    print(\" i will save\")\n",
    "\n",
    "elif salary>1000:\n",
    "    print(\"i will get a chain\")\n",
    "elif salary<1000:\n",
    "    print(\"i will get a purse\")\n",
    "if salary== 1000:\n",
    "    print(\"well done\")\n",
    "else:\n",
    "    print(\"no more spending\")"
   ]
  },
  {
   "cell_type": "markdown",
   "id": "a90938d1",
   "metadata": {},
   "source": [
    "# Boolean operators"
   ]
  },
  {
   "cell_type": "markdown",
   "id": "dc2f8196",
   "metadata": {},
   "source": [
    "In python we have 3 boolean operatores, they are:\n",
    "\n",
    "1. and: Returns true if both operands are true, else false.\n",
    "\n",
    "2. Or: Returns true if both operands are true, else false.\n",
    "\n",
    "3. not: Returns value opposite to the truth value of the expression."
   ]
  },
  {
   "cell_type": "code",
   "execution_count": 23,
   "id": "8c58a21b",
   "metadata": {},
   "outputs": [
    {
     "name": "stdout",
     "output_type": "stream",
     "text": [
      " this is not a valid statement\n"
     ]
    }
   ],
   "source": [
    "a=10\n",
    "b=20\n",
    "if a==20and b==10 :\n",
    "    print(\" this is a valid statement\")\n",
    "else:\n",
    "    print(\" this is not a valid statement\")"
   ]
  },
  {
   "cell_type": "code",
   "execution_count": 27,
   "id": "add72f06",
   "metadata": {},
   "outputs": [],
   "source": [
    "a=10\n",
    "b=20\n",
    "if a==40 and b<20:\n",
    "    print(\" valid statement\")\n"
   ]
  },
  {
   "cell_type": "code",
   "execution_count": 32,
   "id": "91f098e6",
   "metadata": {},
   "outputs": [
    {
     "name": "stdout",
     "output_type": "stream",
     "text": [
      "condition not verified\n"
     ]
    }
   ],
   "source": [
    "a=10\n",
    "b=20\n",
    "if a==10 and b>20:\n",
    "    print(\" condition is verified\")\n",
    "elif a==10 and b==20:\n",
    "    print(\"condition not verified\")\n",
    "else:\n",
    "    print(\" successful\")"
   ]
  },
  {
   "cell_type": "code",
   "execution_count": 35,
   "id": "e5dcc331",
   "metadata": {},
   "outputs": [],
   "source": [
    "a=10 \n",
    "b=20 \n",
    "if a==20 or b==10:\n",
    "    print( \" value is verified\")"
   ]
  },
  {
   "cell_type": "code",
   "execution_count": 44,
   "id": "580e741c",
   "metadata": {},
   "outputs": [
    {
     "name": "stdout",
     "output_type": "stream",
     "text": [
      "enter your first namejennifer\n",
      "enter your last nameroy\n",
      " name entered is correct\n"
     ]
    }
   ],
   "source": [
    "first_name=input( \"enter your first name\")\n",
    "last_name= input(\"enter your last name\")\n",
    "if first_name==\"jennifer\" and last_name== \"roy\":\n",
    "    print(\" name entered is correct\")\n",
    "else:\n",
    "    print(\"incorrect name\")\n"
   ]
  },
  {
   "cell_type": "code",
   "execution_count": null,
   "id": "73781a5d",
   "metadata": {},
   "outputs": [],
   "source": []
  }
 ],
 "metadata": {
  "kernelspec": {
   "display_name": "Python 3 (ipykernel)",
   "language": "python",
   "name": "python3"
  },
  "language_info": {
   "codemirror_mode": {
    "name": "ipython",
    "version": 3
   },
   "file_extension": ".py",
   "mimetype": "text/x-python",
   "name": "python",
   "nbconvert_exporter": "python",
   "pygments_lexer": "ipython3",
   "version": "3.9.12"
  }
 },
 "nbformat": 4,
 "nbformat_minor": 5
}
